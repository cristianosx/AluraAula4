{
  "nbformat": 4,
  "nbformat_minor": 0,
  "metadata": {
    "colab": {
      "provenance": [],
      "authorship_tag": "ABX9TyOyK1CAxmTqKOeOgVk5L/Fg",
      "include_colab_link": true
    },
    "kernelspec": {
      "name": "python3",
      "display_name": "Python 3"
    },
    "language_info": {
      "name": "python"
    }
  },
  "cells": [
    {
      "cell_type": "markdown",
      "metadata": {
        "id": "view-in-github",
        "colab_type": "text"
      },
      "source": [
        "<a href=\"https://colab.research.google.com/github/cristianosx/AluraAula4/blob/main/AluraAula4.ipynb\" target=\"_parent\"><img src=\"https://colab.research.google.com/assets/colab-badge.svg\" alt=\"Open In Colab\"/></a>"
      ]
    },
    {
      "cell_type": "markdown",
      "source": [
        "Instalando o SDK do Google"
      ],
      "metadata": {
        "id": "6FwfBeA8VmmH"
      }
    },
    {
      "cell_type": "code",
      "execution_count": 1,
      "metadata": {
        "id": "_Mx6_3vsS3YL"
      },
      "outputs": [],
      "source": [
        "!pip install -q -U google-generativeai"
      ]
    },
    {
      "cell_type": "code",
      "source": [
        "# Import the Python SDK\n",
        "import google.generativeai as genai\n",
        "# Used to securely store your API key\n",
        "from google.colab import userdata\n",
        "api_key = userdata.get('SECRET_KEY')\n",
        "\n",
        "#GOOGLE_API_KEY=\"COLAR A CHAVE\"\n",
        "genai.configure(api_key=api_key)"
      ],
      "metadata": {
        "id": "SD03254UVyUp"
      },
      "execution_count": 2,
      "outputs": []
    },
    {
      "cell_type": "markdown",
      "source": [
        "Listar os modelos disponíveis"
      ],
      "metadata": {
        "id": "BK_VIgOxV5DL"
      }
    },
    {
      "cell_type": "code",
      "source": [
        "for modelo in genai.list_models():\n",
        "    if 'generateContent' in modelo.supported_generation_methods:\n",
        "      print(modelo.name)"
      ],
      "metadata": {
        "colab": {
          "base_uri": "https://localhost:8080/",
          "height": 139
        },
        "id": "9ndOWDCEV9-E",
        "outputId": "d5b18490-a08d-4cb6-ca38-2f34e6d087b7"
      },
      "execution_count": 6,
      "outputs": [
        {
          "output_type": "stream",
          "name": "stdout",
          "text": [
            "models/gemini-1.0-pro\n",
            "models/gemini-1.0-pro-001\n",
            "models/gemini-1.0-pro-latest\n",
            "models/gemini-1.0-pro-vision-latest\n",
            "models/gemini-1.5-pro-latest\n",
            "models/gemini-pro\n",
            "models/gemini-pro-vision\n"
          ]
        }
      ]
    },
    {
      "cell_type": "code",
      "source": [
        "generation_config = {\n",
        "    \"candidate_count\": 1,\n",
        "    \"temperature\": 0.5\n",
        "}"
      ],
      "metadata": {
        "id": "Ln2tM4WiX8Lc"
      },
      "execution_count": 11,
      "outputs": []
    },
    {
      "cell_type": "code",
      "source": [
        "safety_settings = {\n",
        "    \"HARASSMENT\": \"BLOCK_NONE\",\n",
        "    \"HATE\": \"BLOCK_NONE\",\n",
        "    \"SEXUAL\": \"BLOCK_NONE\",\n",
        "    \"DANGEROUS\": \"BLOCK_NONE\"\n",
        "}"
      ],
      "metadata": {
        "id": "Ej7cs5aHYpkH"
      },
      "execution_count": 8,
      "outputs": []
    },
    {
      "cell_type": "markdown",
      "source": [
        "Inicializando o modelo"
      ],
      "metadata": {
        "id": "cqSiGKy7ZqGk"
      }
    },
    {
      "cell_type": "code",
      "source": [
        "model = genai.GenerativeModel(model_name=\"gemini-1.0-pro\",\n",
        "                              generation_config=generation_config,\n",
        "                              safety_settings=safety_settings)"
      ],
      "metadata": {
        "id": "wI3QCWojZtFj"
      },
      "execution_count": 12,
      "outputs": []
    },
    {
      "cell_type": "code",
      "source": [
        "response = model.generate_content(\"Qual é a história do Venon\")\n",
        "print(response.text)"
      ],
      "metadata": {
        "colab": {
          "base_uri": "https://localhost:8080/",
          "height": 625
        },
        "id": "O9qGz-Zvafev",
        "outputId": "e42fa3d7-49b8-4561-d25a-4564dc655b72"
      },
      "execution_count": 13,
      "outputs": [
        {
          "output_type": "stream",
          "name": "stdout",
          "text": [
            "**Origem do Venom**\n",
            "\n",
            "* **1984:** O simbionte alienígena Venom é introduzido em \"The Amazing Spider-Man\" #299.\n",
            "* **1985:** O simbionte se liga a Peter Parker (Homem-Aranha), amplificando seus poderes, mas também sua raiva e agressão.\n",
            "* **1986:** Peter se livra do simbionte, que então se liga a Eddie Brock, um jornalista falido e vingativo, criando o Venom.\n",
            "\n",
            "**Eddie Brock como Venom**\n",
            "\n",
            "* **1988:** Venom se torna um inimigo mortal do Homem-Aranha, buscando vingança contra ele por arruinar sua vida.\n",
            "* **1990:** Venom se junta ao Sexteto Sinistro, um grupo de vilões que se unem para derrotar o Homem-Aranha.\n",
            "* **1991:** Venom é derrotado e preso, mas escapa e continua a atormentar o Homem-Aranha.\n",
            "\n",
            "**Outros Hospedeiros do Venom**\n",
            "\n",
            "* **1993:** O simbionte Venom se liga a Mac Gargan (Escorpião), criando o Venom Escarlate.\n",
            "* **2000:** O simbionte se liga a Angelo Fortunato, um policial corrupto, criando o Venom Agente.\n",
            "* **2005:** O simbionte se liga a Mike Costa, um ex-soldado, criando o Venom Patriota.\n",
            "\n",
            "**Flash Thompson como Venom**\n",
            "\n",
            "* **2011:** O simbionte Venom se liga a Flash Thompson, um ex-valentão do colégio e amigo do Homem-Aranha.\n",
            "* **2012:** Flash se torna o Agente Venom, um anti-herói que luta contra ameaças sobrenaturais.\n",
            "* **2018:** Flash se separa do simbionte Venom, que então se liga a Lee Price, um ex-vilão.\n",
            "\n",
            "**Knull e a Escuridão**\n",
            "\n",
            "* **2018:** É revelado que o simbionte Venom é um descendente de Knull, um deus das trevas que criou os simbiontes.\n",
            "* **2019:** Knull invade a Terra, buscando consumir toda a luz e vida.\n",
            "* **2020:** Venom se junta a outros heróis para lutar contra Knull e sua Escuridão.\n",
            "\n",
            "**Venom Atualmente**\n",
            "\n",
            "* Venom continua sendo um anti-herói complexo, lutando contra o mal enquanto luta com sua própria natureza sombria.\n",
            "* O simbionte Venom é atualmente ligado a Dylan Brock, o filho de Eddie Brock.\n",
            "* Venom é um membro dos Guardiões da Galáxia, uma equipe de heróis que protege o universo.\n"
          ]
        }
      ]
    },
    {
      "cell_type": "code",
      "source": [
        "chat = model.start_chat(history=[])"
      ],
      "metadata": {
        "id": "ISEBp7HCbMIe"
      },
      "execution_count": 14,
      "outputs": []
    },
    {
      "cell_type": "code",
      "source": [
        "prompt = input(\"Esperando o prompt: \")\n",
        "\n",
        "while prompt != \"fim\":\n",
        "  response = chat.send_message(prompt)\n",
        "  print(\"Resposta: \", response.text, \"\\n\")\n",
        "  prompt = input(\"Esperando o prompt: \")"
      ],
      "metadata": {
        "colab": {
          "base_uri": "https://localhost:8080/",
          "height": 191
        },
        "id": "yiqsNO5YbqDe",
        "outputId": "b6058d3c-7e19-4243-ed77-f31441fba63c"
      },
      "execution_count": 18,
      "outputs": [
        {
          "name": "stdout",
          "output_type": "stream",
          "text": [
            "Esperando o prompt: Ele venceu quantos grandes prêmios?\n",
            "Resposta:  41 \n",
            "\n",
            "Esperando o prompt: Qual o nome dele?\n",
            "Resposta:  Ayrton Senna \n",
            "\n",
            "Esperando o prompt: fi\n",
            "Resposta:  f \n",
            "\n",
            "Esperando o prompt: fim\n"
          ]
        }
      ]
    },
    {
      "cell_type": "code",
      "source": [
        "chat.history"
      ],
      "metadata": {
        "colab": {
          "base_uri": "https://localhost:8080/"
        },
        "id": "qT2dVZB2esA6",
        "outputId": "189f2ff1-fffe-4794-8495-c9e6812ede18"
      },
      "execution_count": 19,
      "outputs": [
        {
          "output_type": "execute_result",
          "data": {
            "text/plain": [
              "[parts {\n",
              "   text: \"Maria \\303\\251...\"\n",
              " }\n",
              " role: \"user\",\n",
              " parts {\n",
              "   text: \"* Uma mulher\\n* Uma m\\303\\243e\\n* Uma pessoa\"\n",
              " }\n",
              " role: \"model\",\n",
              " parts {\n",
              "   text: \"Religiosamente, maria \\303\\251:\"\n",
              " }\n",
              " role: \"user\",\n",
              " parts {\n",
              "   text: \"* Crist\\303\\243\\n* Cat\\303\\263lica\\n* Virgem Maria\"\n",
              " }\n",
              " role: \"model\",\n",
              " parts {\n",
              "   text: \"Qual \\303\\251 o nome do maior corredor de formula 1 de todos os tempos?\"\n",
              " }\n",
              " role: \"user\",\n",
              " parts {\n",
              "   text: \"Michael Schumacher\"\n",
              " }\n",
              " role: \"model\",\n",
              " parts {\n",
              "   text: \"brasileiro\"\n",
              " }\n",
              " role: \"user\",\n",
              " parts {\n",
              "   text: \"Ayrton Senna\"\n",
              " }\n",
              " role: \"model\",\n",
              " parts {\n",
              "   text: \"De que forma ele morreu?\"\n",
              " }\n",
              " role: \"user\",\n",
              " parts {\n",
              "   text: \"Em um acidente durante o Grande Pr\\303\\252mio de San Marino de 1994, em \\303\\215mola, It\\303\\241lia.\"\n",
              " }\n",
              " role: \"model\",\n",
              " parts {\n",
              "   text: \"Ele venceu quantos grandes pr\\303\\252mios?\"\n",
              " }\n",
              " role: \"user\",\n",
              " parts {\n",
              "   text: \"41\"\n",
              " }\n",
              " role: \"model\",\n",
              " parts {\n",
              "   text: \"Qual o nome dele?\"\n",
              " }\n",
              " role: \"user\",\n",
              " parts {\n",
              "   text: \"Ayrton Senna\"\n",
              " }\n",
              " role: \"model\",\n",
              " parts {\n",
              "   text: \"fi\"\n",
              " }\n",
              " role: \"user\",\n",
              " parts {\n",
              "   text: \"f\"\n",
              " }\n",
              " role: \"model\"]"
            ]
          },
          "metadata": {},
          "execution_count": 19
        }
      ]
    }
  ]
}